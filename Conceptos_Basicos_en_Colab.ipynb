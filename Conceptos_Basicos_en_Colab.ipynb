{
  "nbformat": 4,
  "nbformat_minor": 0,
  "metadata": {
    "colab": {
      "provenance": [],
      "include_colab_link": true
    },
    "kernelspec": {
      "name": "python3",
      "display_name": "Python 3"
    },
    "language_info": {
      "name": "python"
    }
  },
  "cells": [
    {
      "cell_type": "markdown",
      "metadata": {
        "id": "view-in-github",
        "colab_type": "text"
      },
      "source": [
        "<a href=\"https://colab.research.google.com/github/patty-gz02/Colaboratory/blob/main/Conceptos_Basicos_en_Colab.ipynb\" target=\"_parent\"><img src=\"https://colab.research.google.com/assets/colab-badge.svg\" alt=\"Open In Colab\"/></a>"
      ]
    },
    {
      "cell_type": "markdown",
      "metadata": {
        "id": "cO_ASGXaVl3l"
      },
      "source": [
        "# Fundamentos"
      ]
    },
    {
      "cell_type": "markdown",
      "metadata": {
        "id": "qOAa9bXcVr6i"
      },
      "source": [
        "## Objetivos"
      ]
    },
    {
      "cell_type": "markdown",
      "metadata": {
        "id": "Vjq1LCq6VvBE"
      },
      "source": [
        "*   Comprender los temas\n",
        "*   Sintetizar conceptos\n",
        "*   Empatizarse con python"
      ]
    },
    {
      "cell_type": "markdown",
      "source": [],
      "metadata": {
        "id": "ApxetwACp-qn"
      }
    },
    {
      "cell_type": "markdown",
      "metadata": {
        "id": "H_dC_F7OVyn1"
      },
      "source": [
        "<a id='Indice'></a>\n",
        "## Índice\n",
        "[Inicio ▲](#Indice)\n",
        "\n",
        "1. [¿Qué es una variable?](#Que-Es-Una-Variable)\n",
        "2. [Sentencias](#Sentencias)\n",
        "    1. [If](#If)\n",
        "    2. [Elif](#Elif)\n",
        "    3. [Else](#Else)\n",
        "3. [Bucles](#Bucles)\n",
        "    1. [For](#For)\n",
        "    2. [While](#While)\n",
        "4. [Listas](#Listas)\n",
        "7. [Diccionarios](#Dccionarios)"
      ]
    },
    {
      "cell_type": "markdown",
      "metadata": {
        "id": "5MT0jDteV2AE"
      },
      "source": [
        "<a id='Que-Es-Una-Variable'></a>\n",
        "## ¿Qué es una variable?\n",
        "Una variable es un símbolo que guarda valores (enteros, decimales, complejos, lógicos y cadenas)"
      ]
    },
    {
      "cell_type": "code",
      "metadata": {
        "colab": {
          "base_uri": "https://localhost:8080/"
        },
        "id": "2Y7b6Kmfnwue",
        "outputId": "fc7bb80b-92d5-4f96-d7c4-f98174c6ca91"
      },
      "source": [
        "a = 1\n",
        "type(a)"
      ],
      "execution_count": null,
      "outputs": [
        {
          "output_type": "execute_result",
          "data": {
            "text/plain": [
              "int"
            ]
          },
          "metadata": {},
          "execution_count": 40
        }
      ]
    },
    {
      "cell_type": "code",
      "metadata": {
        "colab": {
          "base_uri": "https://localhost:8080/"
        },
        "id": "-exSSU6no0Ol",
        "outputId": "b77564fe-f3be-42b5-f1fc-9d0ac09cd26f"
      },
      "source": [
        "b = 12.546\n",
        "type(b)"
      ],
      "execution_count": null,
      "outputs": [
        {
          "output_type": "execute_result",
          "data": {
            "text/plain": [
              "float"
            ]
          },
          "metadata": {},
          "execution_count": 41
        }
      ]
    },
    {
      "cell_type": "code",
      "metadata": {
        "colab": {
          "base_uri": "https://localhost:8080/"
        },
        "id": "NHUFS3xkpH43",
        "outputId": "0bc1782e-0843-459f-89e5-20f4f253bc17"
      },
      "source": [
        "c = 25+8j\n",
        "type(c)"
      ],
      "execution_count": null,
      "outputs": [
        {
          "output_type": "execute_result",
          "data": {
            "text/plain": [
              "complex"
            ]
          },
          "metadata": {},
          "execution_count": 42
        }
      ]
    },
    {
      "cell_type": "code",
      "metadata": {
        "colab": {
          "base_uri": "https://localhost:8080/"
        },
        "id": "xc291m12pTkm",
        "outputId": "dd4d13f0-b8d9-4262-df19-8f1c83790dc6"
      },
      "source": [
        "d = False\n",
        "type(d)"
      ],
      "execution_count": null,
      "outputs": [
        {
          "output_type": "execute_result",
          "data": {
            "text/plain": [
              "bool"
            ]
          },
          "metadata": {},
          "execution_count": 43
        }
      ]
    },
    {
      "cell_type": "code",
      "metadata": {
        "colab": {
          "base_uri": "https://localhost:8080/"
        },
        "id": "FE-SCVt6o0ue",
        "outputId": "f6c25293-fd4d-4126-acd3-95884de90792"
      },
      "source": [
        "e = \"Hola mundo\"\n",
        "type(e)"
      ],
      "execution_count": null,
      "outputs": [
        {
          "output_type": "execute_result",
          "data": {
            "text/plain": [
              "str"
            ]
          },
          "metadata": {},
          "execution_count": 44
        }
      ]
    },
    {
      "cell_type": "code",
      "metadata": {
        "id": "OytLjXxAVXeO",
        "colab": {
          "base_uri": "https://localhost:8080/"
        },
        "outputId": "a96ea2e0-2aec-41f7-a380-11e8ad44c1bb"
      },
      "source": [
        "a = 1\n",
        "b = 12.546\n",
        "c = 25+8j\n",
        "d = False\n",
        "e = \"Hola mundo\"\n",
        "\n",
        "print(a)\n",
        "print(b)\n",
        "print(c)\n",
        "print(d)\n",
        "print(e)"
      ],
      "execution_count": null,
      "outputs": [
        {
          "output_type": "stream",
          "name": "stdout",
          "text": [
            "1\n",
            "12.546\n",
            "(25+8j)\n",
            "False\n",
            "Hola mundo\n"
          ]
        }
      ]
    },
    {
      "cell_type": "markdown",
      "metadata": {
        "id": "oBo-DanlzAYD"
      },
      "source": [
        "# Condicionales <font color='purple'>(if, else, elif)</font>\n",
        "\n",
        "En una expresión condicional siempre hay minimamente una sentencia.\n",
        "\n",
        "Ejemplo:\n",
        "\n",
        "1.   Si mi edad es mayor o igual a 18, `Soy mayor de edad`.\n",
        "<font color='white'>..</font>"
      ]
    },
    {
      "cell_type": "code",
      "metadata": {
        "colab": {
          "base_uri": "https://localhost:8080/"
        },
        "id": "vk7S77alpzuY",
        "outputId": "2c6347ad-0a31-4122-defd-b74e69fc6e78"
      },
      "source": [
        "edad=19\n",
        "if edad>=18:\n",
        "  print(\"Soy mayor de edad\")"
      ],
      "execution_count": null,
      "outputs": [
        {
          "output_type": "stream",
          "name": "stdout",
          "text": [
            "Soy mayor de edad\n"
          ]
        }
      ]
    },
    {
      "cell_type": "markdown",
      "metadata": {
        "id": "XW-LVqddl3Cw"
      },
      "source": [
        "3.   Si mi edad es mayor o igual a 18, `Soy mayor de edad`, si es menor a 0, `No existe esa edad`, de modo contrario, `Soy menor de edad`."
      ]
    },
    {
      "cell_type": "code",
      "metadata": {
        "colab": {
          "base_uri": "https://localhost:8080/"
        },
        "id": "3sPtrsQ8oXmJ",
        "outputId": "30716be5-d55c-40d3-e70b-8707ebfea370"
      },
      "source": [
        "edad = -1\n",
        "if edad >= 18:\n",
        "    print(\"Soy mayor de edad\")\n",
        "elif edad < 0:\n",
        "    print(\"No existe esa edad\")\n",
        "else:\n",
        "    print(\"Soy menor de edad\")"
      ],
      "execution_count": null,
      "outputs": [
        {
          "output_type": "stream",
          "name": "stdout",
          "text": [
            "No existe esa edad\n"
          ]
        }
      ]
    },
    {
      "cell_type": "markdown",
      "metadata": {
        "id": "zV-K0nRw2GFz"
      },
      "source": [
        "# Bucles\n",
        "\n",
        "\n",
        "## For\n",
        "\n",
        "Es un bucle que repite el bloque de instrucciones un número prederminado de veces.\n",
        "\n",
        "\n",
        "\n"
      ]
    },
    {
      "cell_type": "code",
      "metadata": {
        "id": "UjU36tB625rl",
        "colab": {
          "base_uri": "https://localhost:8080/"
        },
        "outputId": "57142957-9544-4779-81ec-1000e10c251d"
      },
      "source": [
        "word = input(\"Introduce una palabra: \")\n",
        "for i in range(10):\n",
        "    print(word)"
      ],
      "execution_count": null,
      "outputs": [
        {
          "output_type": "stream",
          "name": "stdout",
          "text": [
            "Introduce una palabra: Hi\n",
            "Hi\n",
            "Hi\n",
            "Hi\n",
            "Hi\n",
            "Hi\n",
            "Hi\n",
            "Hi\n",
            "Hi\n",
            "Hi\n",
            "Hi\n"
          ]
        }
      ]
    },
    {
      "cell_type": "markdown",
      "metadata": {
        "id": "Lw7NxoTI3IVy"
      },
      "source": [
        "## While\n",
        "\n",
        "Nos permite ejecutar ciclos, o bien secuencias periódicas que nos permiten ejecutar código múltiples veces.\n",
        "\n",
        "Es una expresión lógica que puede tener como resultado un valor True o False.\n",
        "\n",
        "\n",
        "\n"
      ]
    },
    {
      "cell_type": "code",
      "metadata": {
        "id": "qJKPhwCm4DGQ",
        "colab": {
          "base_uri": "https://localhost:8080/"
        },
        "outputId": "a4466601-bd55-470a-ac03-2c46084251ff"
      },
      "source": [
        "i = 1\n",
        "while i <= 3:\n",
        "    print(i)\n",
        "    i = i + 1\n",
        "print(\"Programa terminado\")"
      ],
      "execution_count": null,
      "outputs": [
        {
          "output_type": "stream",
          "name": "stdout",
          "text": [
            "1\n",
            "2\n",
            "3\n",
            "Programa terminado\n"
          ]
        }
      ]
    },
    {
      "cell_type": "markdown",
      "metadata": {
        "id": "1_qq9Ar04opJ"
      },
      "source": [
        "# Listas\n",
        "\n",
        ".heterogéneas: pueden estar conformadas por elementos de distintos tipo, incluidos otras listas.\n",
        "\n",
        ".mutables: sus elementos pueden modificarse"
      ]
    },
    {
      "cell_type": "code",
      "metadata": {
        "id": "7Ceutc6P6VRL",
        "colab": {
          "base_uri": "https://localhost:8080/"
        },
        "outputId": "06c468c7-e0f0-43e1-b9d4-4fc26c2e6004"
      },
      "source": [
        "my_list = [2, 5, 'DevCode', 1.2, 5]\n",
        "my_list"
      ],
      "execution_count": null,
      "outputs": [
        {
          "output_type": "execute_result",
          "data": {
            "text/plain": [
              "[2, 5, 'DevCode', 1.2, 5]"
            ]
          },
          "metadata": {},
          "execution_count": 49
        }
      ]
    },
    {
      "cell_type": "code",
      "metadata": {
        "id": "Kw0g7x6_Mx5n",
        "colab": {
          "base_uri": "https://localhost:8080/"
        },
        "outputId": "13df5238-759b-405b-de5d-b7e90bafabae"
      },
      "source": [
        "factura = ['Pan','Huevos',100,1234]\n",
        "factura"
      ],
      "execution_count": null,
      "outputs": [
        {
          "output_type": "execute_result",
          "data": {
            "text/plain": [
              "['Pan', 'Huevos', 100, 1234]"
            ]
          },
          "metadata": {},
          "execution_count": 50
        }
      ]
    },
    {
      "cell_type": "markdown",
      "metadata": {
        "id": "8SlR6ZZFNiSP"
      },
      "source": [
        "Append: Este método agrega un elemento al final de una lista"
      ]
    },
    {
      "cell_type": "code",
      "metadata": {
        "id": "dkXycPFxNvWg",
        "colab": {
          "base_uri": "https://localhost:8080/"
        },
        "outputId": "172c82a0-61ab-4d70-f5e5-27bc692746c4"
      },
      "source": [
        "d = []\n",
        "d.append('Arroz')\n",
        "d"
      ],
      "execution_count": null,
      "outputs": [
        {
          "output_type": "execute_result",
          "data": {
            "text/plain": [
              "['Arroz']"
            ]
          },
          "metadata": {},
          "execution_count": 27
        }
      ]
    },
    {
      "cell_type": "markdown",
      "metadata": {
        "id": "x6eNjCHZOYfu"
      },
      "source": [
        "Sort: Este método ordena una lista"
      ]
    },
    {
      "cell_type": "code",
      "metadata": {
        "id": "BI4wHTgXO8ln",
        "colab": {
          "base_uri": "https://localhost:8080/"
        },
        "outputId": "c1e75b4b-04cf-4915-a789-da22e9889db7"
      },
      "source": [
        "versiones_iphone = [4,2.5,5,3.6,2.1,6]\n",
        "print(versiones_iphone)"
      ],
      "execution_count": null,
      "outputs": [
        {
          "output_type": "stream",
          "name": "stdout",
          "text": [
            "[4, 2.5, 5, 3.6, 2.1, 6]\n"
          ]
        }
      ]
    },
    {
      "cell_type": "code",
      "metadata": {
        "id": "wrWJ85VFPjVn",
        "colab": {
          "base_uri": "https://localhost:8080/"
        },
        "outputId": "b047fc72-bbc5-430a-a518-329838cba3ac"
      },
      "source": [
        "versiones_iphone.sort()#reverse=True\n",
        "print(versiones_iphone)"
      ],
      "execution_count": null,
      "outputs": [
        {
          "output_type": "stream",
          "name": "stdout",
          "text": [
            "[2.1, 2.5, 3.6, 4, 5, 6]\n"
          ]
        }
      ]
    },
    {
      "cell_type": "code",
      "metadata": {
        "id": "tMiG4rpeBXFu",
        "colab": {
          "base_uri": "https://localhost:8080/"
        },
        "outputId": "97f3b8c8-0e04-496e-e17d-fcb86bf4e553"
      },
      "source": [
        "t=(25, \"Mayo\", 1810)\n",
        "t[0]\n",
        "t[2]"
      ],
      "execution_count": null,
      "outputs": [
        {
          "output_type": "execute_result",
          "data": {
            "text/plain": [
              "1810"
            ]
          },
          "metadata": {},
          "execution_count": 34
        }
      ]
    },
    {
      "cell_type": "markdown",
      "metadata": {
        "id": "7I_k8NbWJoDN"
      },
      "source": [
        "# Diccionario\n",
        "\n",
        "El diccionario, define una relación uno a uno entre claves y valores"
      ]
    },
    {
      "cell_type": "code",
      "metadata": {
        "id": "t-Zx6zJ3KZ03"
      },
      "source": [
        "diccionario = {\"total\": 55, \"descuento\": True, \"subtotal\": 15}"
      ],
      "execution_count": null,
      "outputs": []
    },
    {
      "cell_type": "code",
      "metadata": {
        "id": "U4dKkKldSNF1",
        "colab": {
          "base_uri": "https://localhost:8080/"
        },
        "outputId": "288342b3-e06f-431c-97d5-cd57a49226f2"
      },
      "source": [
        "seleccion = {\n",
        "    1:\"Castilla\",15:\"Rodriguez\",\n",
        "    6:\"Castilla\",15:\"Rodriguez\",\n",
        "    6:\"Castilla\",15:\"Rodriguez\",\n",
        "    }\n",
        "\n",
        "print(seleccion)"
      ],
      "execution_count": null,
      "outputs": [
        {
          "output_type": "stream",
          "name": "stdout",
          "text": [
            "{1: 'Castilla', 15: 'Rodriguez', 6: 'Castilla'}\n"
          ]
        }
      ]
    }
  ]
}
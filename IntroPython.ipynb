{
  "nbformat": 4,
  "nbformat_minor": 0,
  "metadata": {
    "colab": {
      "provenance": [],
      "authorship_tag": "ABX9TyOZDpR5PCa+lr7AV01WzHSW",
      "include_colab_link": true
    },
    "kernelspec": {
      "name": "python3",
      "display_name": "Python 3"
    },
    "language_info": {
      "name": "python"
    }
  },
  "cells": [
    {
      "cell_type": "markdown",
      "metadata": {
        "id": "view-in-github",
        "colab_type": "text"
      },
      "source": [
        "<a href=\"https://colab.research.google.com/github/patty-gz02/Colaboratory/blob/main/IntroPython.ipynb\" target=\"_parent\"><img src=\"https://colab.research.google.com/assets/colab-badge.svg\" alt=\"Open In Colab\"/></a>"
      ]
    },
    {
      "cell_type": "markdown",
      "source": [
        "#Operador de concatenacion"
      ],
      "metadata": {
        "id": "lzMxV6XP1ieq"
      }
    },
    {
      "cell_type": "code",
      "execution_count": null,
      "metadata": {
        "colab": {
          "base_uri": "https://localhost:8080/",
          "height": 35
        },
        "id": "n5zFG_a401tD",
        "outputId": "e4260f25-fa75-4e08-e9ef-a55d4f45e031"
      },
      "outputs": [
        {
          "output_type": "execute_result",
          "data": {
            "text/plain": [
              "'Matematica'"
            ],
            "application/vnd.google.colaboratory.intrinsic+json": {
              "type": "string"
            }
          },
          "metadata": {},
          "execution_count": 1
        }
      ],
      "source": [
        "x='Mate'\n",
        "y='matica'\n",
        "z=x+y\n",
        "z"
      ]
    },
    {
      "cell_type": "code",
      "source": [
        "z='La '+z\n",
        "z"
      ],
      "metadata": {
        "colab": {
          "base_uri": "https://localhost:8080/",
          "height": 35
        },
        "id": "zZth9iKq1ecT",
        "outputId": "48426c38-be68-48fa-9831-98f24dc38ea3"
      },
      "execution_count": null,
      "outputs": [
        {
          "output_type": "execute_result",
          "data": {
            "text/plain": [
              "'La Matematica'"
            ],
            "application/vnd.google.colaboratory.intrinsic+json": {
              "type": "string"
            }
          },
          "metadata": {},
          "execution_count": 2
        }
      ]
    },
    {
      "cell_type": "code",
      "source": [
        "r='e' in z\n",
        "r"
      ],
      "metadata": {
        "colab": {
          "base_uri": "https://localhost:8080/"
        },
        "id": "ALkXBxiW1pxf",
        "outputId": "7ba0c545-e30b-43be-9127-633084bced13"
      },
      "execution_count": null,
      "outputs": [
        {
          "output_type": "execute_result",
          "data": {
            "text/plain": [
              "True"
            ]
          },
          "metadata": {},
          "execution_count": 3
        }
      ]
    },
    {
      "cell_type": "markdown",
      "source": [
        "#Conversion entre tipos de datos"
      ],
      "metadata": {
        "id": "z7VTCj8z15Ho"
      }
    },
    {
      "cell_type": "code",
      "source": [
        "a=73\n",
        "b=float(a)\n",
        "c=str(a)\n",
        "print(\"\\n\",a,\"\\n\",b,\"\\n\",c)"
      ],
      "metadata": {
        "colab": {
          "base_uri": "https://localhost:8080/"
        },
        "id": "wnI8Ooq414kg",
        "outputId": "d948ae5e-065d-4e54-eaac-49738ff35740"
      },
      "execution_count": null,
      "outputs": [
        {
          "output_type": "stream",
          "name": "stdout",
          "text": [
            "\n",
            " 73 \n",
            " 73.0 \n",
            " 73\n"
          ]
        }
      ]
    },
    {
      "cell_type": "code",
      "source": [
        "print(type(a),\"\\n\",type(b),\"\\n\",type(c))"
      ],
      "metadata": {
        "colab": {
          "base_uri": "https://localhost:8080/"
        },
        "id": "nD72xTyX3Rub",
        "outputId": "ed7ad83a-f3c3-4c5e-975a-fcdd694943b9"
      },
      "execution_count": null,
      "outputs": [
        {
          "output_type": "stream",
          "name": "stdout",
          "text": [
            "\n",
            " <class 'int'> \n",
            " <class 'float'> \n",
            " <class 'str'>\n"
          ]
        }
      ]
    },
    {
      "cell_type": "code",
      "source": [
        "x=5\n",
        "z=complex(x)\n",
        "z"
      ],
      "metadata": {
        "colab": {
          "base_uri": "https://localhost:8080/"
        },
        "id": "eAQ1c6LN2-o6",
        "outputId": "9c5933cd-2c2c-47b4-d24f-95ed11102a15"
      },
      "execution_count": null,
      "outputs": [
        {
          "output_type": "execute_result",
          "data": {
            "text/plain": [
              "(5+0j)"
            ]
          },
          "metadata": {},
          "execution_count": 12
        }
      ]
    },
    {
      "cell_type": "code",
      "source": [
        "print(type(z))"
      ],
      "metadata": {
        "colab": {
          "base_uri": "https://localhost:8080/"
        },
        "id": "Y-kBDSBo3NeY",
        "outputId": "560bb3be-9882-4628-abad-428b355fa80f"
      },
      "execution_count": null,
      "outputs": [
        {
          "output_type": "stream",
          "name": "stdout",
          "text": [
            "<class 'complex'>\n"
          ]
        }
      ]
    },
    {
      "cell_type": "code",
      "source": [
        "u=2+3j\n",
        "a=u.real\n",
        "b=u.imag\n",
        "print(\"\\n\",u,\"\\n\",a,\"\\n\",b)"
      ],
      "metadata": {
        "colab": {
          "base_uri": "https://localhost:8080/"
        },
        "id": "ITOCQOgv3gRx",
        "outputId": "0cb193e7-1fca-4527-b794-2e312be69ccc"
      },
      "execution_count": null,
      "outputs": [
        {
          "output_type": "stream",
          "name": "stdout",
          "text": [
            "\n",
            " (2+3j) \n",
            " 2.0 \n",
            " 3.0\n"
          ]
        }
      ]
    },
    {
      "cell_type": "code",
      "source": [
        "print(type(u),\"\\n\",type(a),\"\\n\",type(b))"
      ],
      "metadata": {
        "colab": {
          "base_uri": "https://localhost:8080/"
        },
        "id": "RGnlxDoY3xR_",
        "outputId": "2fe12ea0-387f-4528-f26d-efd787e62d7e"
      },
      "execution_count": null,
      "outputs": [
        {
          "output_type": "stream",
          "name": "stdout",
          "text": [
            "<class 'complex'> \n",
            " <class 'float'> \n",
            " <class 'float'>\n"
          ]
        }
      ]
    },
    {
      "cell_type": "code",
      "source": [
        "a=75\n",
        "b=chr(a) #codigo entero ASCII\n",
        "print(a,\"\\n\",b)"
      ],
      "metadata": {
        "colab": {
          "base_uri": "https://localhost:8080/"
        },
        "id": "YPehZWqd4CAc",
        "outputId": "ab62ea77-8104-48c6-c129-9b7fd002f5fc"
      },
      "execution_count": null,
      "outputs": [
        {
          "output_type": "stream",
          "name": "stdout",
          "text": [
            "75 \n",
            " K\n"
          ]
        }
      ]
    },
    {
      "cell_type": "code",
      "source": [
        "a=1\n",
        "b=2\n",
        "a+b"
      ],
      "metadata": {
        "id": "pzUsO7UZ4MFm",
        "colab": {
          "base_uri": "https://localhost:8080/"
        },
        "outputId": "d0cb6573-1ef5-4f04-8b9b-b8b79125fcba"
      },
      "execution_count": 1,
      "outputs": [
        {
          "output_type": "execute_result",
          "data": {
            "text/plain": [
              "3"
            ]
          },
          "metadata": {},
          "execution_count": 1
        }
      ]
    }
  ]
}
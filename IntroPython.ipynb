{
  "nbformat": 4,
  "nbformat_minor": 0,
  "metadata": {
    "colab": {
      "provenance": [],
      "authorship_tag": "ABX9TyMDRWx02IYhTXPYtIS1EtBZ",
      "include_colab_link": true
    },
    "kernelspec": {
      "name": "python3",
      "display_name": "Python 3"
    },
    "language_info": {
      "name": "python"
    }
  },
  "cells": [
    {
      "cell_type": "markdown",
      "metadata": {
        "id": "view-in-github",
        "colab_type": "text"
      },
      "source": [
        "<a href=\"https://colab.research.google.com/github/patty-gz02/Colaboratory/blob/main/IntroPython.ipynb\" target=\"_parent\"><img src=\"https://colab.research.google.com/assets/colab-badge.svg\" alt=\"Open In Colab\"/></a>"
      ]
    },
    {
      "cell_type": "markdown",
      "source": [
        "#Operador de concatenacion"
      ],
      "metadata": {
        "id": "lzMxV6XP1ieq"
      }
    },
    {
      "cell_type": "code",
      "execution_count": null,
      "metadata": {
        "colab": {
          "base_uri": "https://localhost:8080/",
          "height": 35
        },
        "id": "n5zFG_a401tD",
        "outputId": "e4260f25-fa75-4e08-e9ef-a55d4f45e031"
      },
      "outputs": [
        {
          "output_type": "execute_result",
          "data": {
            "text/plain": [
              "'Matematica'"
            ],
            "application/vnd.google.colaboratory.intrinsic+json": {
              "type": "string"
            }
          },
          "metadata": {},
          "execution_count": 1
        }
      ],
      "source": [
        "x='Mate'\n",
        "y='matica'\n",
        "z=x+y\n",
        "z"
      ]
    },
    {
      "cell_type": "code",
      "source": [
        "z='La '+z\n",
        "z"
      ],
      "metadata": {
        "colab": {
          "base_uri": "https://localhost:8080/",
          "height": 35
        },
        "id": "zZth9iKq1ecT",
        "outputId": "48426c38-be68-48fa-9831-98f24dc38ea3"
      },
      "execution_count": null,
      "outputs": [
        {
          "output_type": "execute_result",
          "data": {
            "text/plain": [
              "'La Matematica'"
            ],
            "application/vnd.google.colaboratory.intrinsic+json": {
              "type": "string"
            }
          },
          "metadata": {},
          "execution_count": 2
        }
      ]
    },
    {
      "cell_type": "code",
      "source": [
        "r='e' in z\n",
        "r"
      ],
      "metadata": {
        "colab": {
          "base_uri": "https://localhost:8080/"
        },
        "id": "ALkXBxiW1pxf",
        "outputId": "7ba0c545-e30b-43be-9127-633084bced13"
      },
      "execution_count": null,
      "outputs": [
        {
          "output_type": "execute_result",
          "data": {
            "text/plain": [
              "True"
            ]
          },
          "metadata": {},
          "execution_count": 3
        }
      ]
    },
    {
      "cell_type": "markdown",
      "source": [
        "#Conversion entre tipos de datos"
      ],
      "metadata": {
        "id": "z7VTCj8z15Ho"
      }
    },
    {
      "cell_type": "code",
      "source": [
        "a=73\n",
        "b=float(a)\n",
        "c=str(a)\n",
        "print(\"\\n\",a,\"\\n\",b,\"\\n\",c)"
      ],
      "metadata": {
        "colab": {
          "base_uri": "https://localhost:8080/"
        },
        "id": "wnI8Ooq414kg",
        "outputId": "d948ae5e-065d-4e54-eaac-49738ff35740"
      },
      "execution_count": null,
      "outputs": [
        {
          "output_type": "stream",
          "name": "stdout",
          "text": [
            "\n",
            " 73 \n",
            " 73.0 \n",
            " 73\n"
          ]
        }
      ]
    },
    {
      "cell_type": "code",
      "source": [
        "print(type(a),\"\\n\",type(b),\"\\n\",type(c))"
      ],
      "metadata": {
        "colab": {
          "base_uri": "https://localhost:8080/"
        },
        "id": "nD72xTyX3Rub",
        "outputId": "ed7ad83a-f3c3-4c5e-975a-fcdd694943b9"
      },
      "execution_count": null,
      "outputs": [
        {
          "output_type": "stream",
          "name": "stdout",
          "text": [
            "\n",
            " <class 'int'> \n",
            " <class 'float'> \n",
            " <class 'str'>\n"
          ]
        }
      ]
    },
    {
      "cell_type": "code",
      "source": [
        "x=5\n",
        "z=complex(x)\n",
        "z"
      ],
      "metadata": {
        "colab": {
          "base_uri": "https://localhost:8080/"
        },
        "id": "eAQ1c6LN2-o6",
        "outputId": "9c5933cd-2c2c-47b4-d24f-95ed11102a15"
      },
      "execution_count": null,
      "outputs": [
        {
          "output_type": "execute_result",
          "data": {
            "text/plain": [
              "(5+0j)"
            ]
          },
          "metadata": {},
          "execution_count": 12
        }
      ]
    },
    {
      "cell_type": "code",
      "source": [
        "print(type(z))"
      ],
      "metadata": {
        "colab": {
          "base_uri": "https://localhost:8080/"
        },
        "id": "Y-kBDSBo3NeY",
        "outputId": "560bb3be-9882-4628-abad-428b355fa80f"
      },
      "execution_count": null,
      "outputs": [
        {
          "output_type": "stream",
          "name": "stdout",
          "text": [
            "<class 'complex'>\n"
          ]
        }
      ]
    },
    {
      "cell_type": "code",
      "source": [
        "u=2+3j\n",
        "a=u.real\n",
        "b=u.imag\n",
        "print(\"\\n\",u,\"\\n\",a,\"\\n\",b)"
      ],
      "metadata": {
        "colab": {
          "base_uri": "https://localhost:8080/"
        },
        "id": "ITOCQOgv3gRx",
        "outputId": "0cb193e7-1fca-4527-b794-2e312be69ccc"
      },
      "execution_count": null,
      "outputs": [
        {
          "output_type": "stream",
          "name": "stdout",
          "text": [
            "\n",
            " (2+3j) \n",
            " 2.0 \n",
            " 3.0\n"
          ]
        }
      ]
    },
    {
      "cell_type": "code",
      "source": [
        "print(type(u),\"\\n\",type(a),\"\\n\",type(b))"
      ],
      "metadata": {
        "colab": {
          "base_uri": "https://localhost:8080/"
        },
        "id": "RGnlxDoY3xR_",
        "outputId": "2fe12ea0-387f-4528-f26d-efd787e62d7e"
      },
      "execution_count": null,
      "outputs": [
        {
          "output_type": "stream",
          "name": "stdout",
          "text": [
            "<class 'complex'> \n",
            " <class 'float'> \n",
            " <class 'float'>\n"
          ]
        }
      ]
    },
    {
      "cell_type": "code",
      "source": [
        "a=75\n",
        "b=chr(a) #codigo entero ASCII\n",
        "print(a,\"\\n\",b)"
      ],
      "metadata": {
        "colab": {
          "base_uri": "https://localhost:8080/"
        },
        "id": "YPehZWqd4CAc",
        "outputId": "ab62ea77-8104-48c6-c129-9b7fd002f5fc"
      },
      "execution_count": null,
      "outputs": [
        {
          "output_type": "stream",
          "name": "stdout",
          "text": [
            "75 \n",
            " K\n"
          ]
        }
      ]
    },
    {
      "cell_type": "markdown",
      "source": [
        "#Variables y aritmética básica"
      ],
      "metadata": {
        "id": "tkCHeC7jyaQ5"
      }
    },
    {
      "cell_type": "code",
      "source": [
        "a = 10\n",
        "b = 5\n",
        "\n",
        "print(\"Sumo a+b:\", a+b)\n",
        "print(\"Resto a-b:\", a-b)\n",
        "print(\"Multiplico a*b:\", a*b)\n",
        "print(\"Divido b/a:\", b/a)\n",
        "print(\"División entera a//b:\", a//b)\n",
        "print(\"Resto de división a%b:\", a%b)\n",
        "print(\"Comparo a>b:\", a>b)\n",
        "print(\"Comparo a==b:\", a==b)\n",
        "print(\"Comparo a<=b:\", a<=b)"
      ],
      "metadata": {
        "colab": {
          "base_uri": "https://localhost:8080/"
        },
        "id": "M_E_RXPxyImm",
        "outputId": "2dba1a44-fefb-4dab-a742-4190b71e5111"
      },
      "execution_count": 10,
      "outputs": [
        {
          "output_type": "stream",
          "name": "stdout",
          "text": [
            "Sumo a+b: 15\n",
            "Resto a-b: 5\n",
            "Multiplico a*b: 50\n",
            "Divido b/a: 0.5\n",
            "División entera a//b: 2\n",
            "Resto de división a%b: 0\n",
            "Comparo a>b: True\n",
            "Comparo a==b: False\n",
            "Comparo a<=b: False\n"
          ]
        }
      ]
    },
    {
      "cell_type": "code",
      "source": [],
      "metadata": {
        "id": "bHWr8tQJzJex"
      },
      "execution_count": null,
      "outputs": []
    },
    {
      "cell_type": "markdown",
      "source": [
        "#Ejercicios"
      ],
      "metadata": {
        "id": "EYnng0vbx71_"
      }
    },
    {
      "cell_type": "code",
      "source": [
        "print(\"Hola, mundo!\")"
      ],
      "metadata": {
        "id": "pzUsO7UZ4MFm",
        "colab": {
          "base_uri": "https://localhost:8080/"
        },
        "outputId": "7ee9ea08-6136-4a14-d67e-de574ac86792"
      },
      "execution_count": 3,
      "outputs": [
        {
          "output_type": "stream",
          "name": "stdout",
          "text": [
            "Hola, mundo!\n"
          ]
        }
      ]
    },
    {
      "cell_type": "code",
      "source": [
        "nombre = input(\"¿Cómo te llamas? \")\n",
        "edad = int(input(\"¿Cuántos años tienes? \"))\n",
        "print(f\"Hola {nombre}, ¡tienes {edad} años!\")"
      ],
      "metadata": {
        "colab": {
          "base_uri": "https://localhost:8080/"
        },
        "id": "Xnrg3WWvxcy3",
        "outputId": "e493c678-4ea5-498a-de8b-c4501a5c4cd8"
      },
      "execution_count": 4,
      "outputs": [
        {
          "output_type": "stream",
          "name": "stdout",
          "text": [
            "¿Cómo te llamas? paty\n",
            "¿Cuántos años tienes? 22\n",
            "Hola paty, ¡tienes 22 años!\n"
          ]
        }
      ]
    },
    {
      "cell_type": "code",
      "source": [
        "base = float(input(\"Ingresa la base del triángulo: \"))\n",
        "altura = float(input(\"Ingresa la altura del triángulo: \"))\n",
        "area = (base * altura) / 2\n",
        "print(f\"El área del triángulo es: {area}\")"
      ],
      "metadata": {
        "colab": {
          "base_uri": "https://localhost:8080/"
        },
        "id": "zTf6pJ50xi9x",
        "outputId": "3fc7c147-2100-4a72-9e52-c6b8877084d4"
      },
      "execution_count": 5,
      "outputs": [
        {
          "output_type": "stream",
          "name": "stdout",
          "text": [
            "Ingresa la base del triángulo: 2\n",
            "Ingresa la altura del triángulo: 3\n",
            "El área del triángulo es: 3.0\n"
          ]
        }
      ]
    },
    {
      "cell_type": "code",
      "source": [
        "grados_celsius = float(input(\"Ingresa la temperatura en grados Celsius: \"))\n",
        "grados_fahrenheit = (grados_celsius * 9/5) + 32\n",
        "print(f\"{grados_celsius} grados Celsius equivalen a {grados_fahrenheit} grados Fahrenheit.\")"
      ],
      "metadata": {
        "colab": {
          "base_uri": "https://localhost:8080/"
        },
        "id": "KZTZB9WOxmgA",
        "outputId": "a4dd5be8-887d-4d1e-8663-3b16b4637474"
      },
      "execution_count": 6,
      "outputs": [
        {
          "output_type": "stream",
          "name": "stdout",
          "text": [
            "Ingresa la temperatura en grados Celsius: 12\n",
            "12.0 grados Celsius equivalen a 53.6 grados Fahrenheit.\n"
          ]
        }
      ]
    },
    {
      "cell_type": "code",
      "source": [
        "import random\n",
        "\n",
        "numero_secreto = random.randint(1, 100)\n",
        "\n",
        "intentos = 0\n",
        "while intentos < 5:\n",
        "  intento = int(input(\"Ingresa un número entre 1 y 100: \"))\n",
        "  if intento == numero_secreto:\n",
        "    print(\"¡Felicidades! Adivinaste el número secreto.\")\n",
        "    break\n",
        "  elif intento < numero_secreto:\n",
        "    print(\"El número secreto es mayor.\")\n",
        "  else:\n",
        "    print(\"El número secreto es menor.\")\n",
        "  intentos += 1\n",
        "\n",
        "if intentos == 5:\n",
        "  print(\"Te quedaste sin intentos. El número secreto era:\", numero_secreto)\n"
      ],
      "metadata": {
        "colab": {
          "base_uri": "https://localhost:8080/"
        },
        "id": "6dkQ-K4pxsco",
        "outputId": "99b1424c-fbac-4c4c-cd07-f828c6cd2b99"
      },
      "execution_count": 7,
      "outputs": [
        {
          "output_type": "stream",
          "name": "stdout",
          "text": [
            "Ingresa un número entre 1 y 100: 2\n",
            "El número secreto es mayor.\n",
            "Ingresa un número entre 1 y 100: 15\n",
            "El número secreto es mayor.\n",
            "Ingresa un número entre 1 y 100: 80\n",
            "El número secreto es mayor.\n",
            "Ingresa un número entre 1 y 100: 90\n",
            "El número secreto es mayor.\n",
            "Ingresa un número entre 1 y 100: 100\n",
            "El número secreto es menor.\n",
            "Te quedaste sin intentos. El número secreto era: 96\n"
          ]
        }
      ]
    },
    {
      "cell_type": "code",
      "source": [],
      "metadata": {
        "id": "RsVA37-zx0aJ"
      },
      "execution_count": null,
      "outputs": []
    }
  ]
}